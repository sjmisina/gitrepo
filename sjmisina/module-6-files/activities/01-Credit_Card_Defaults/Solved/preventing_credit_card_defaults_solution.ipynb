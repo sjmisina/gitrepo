{
 "cells": [
  {
   "cell_type": "markdown",
   "metadata": {},
   "source": [
    "# Preventing Credit Card Defaults\n",
    "\n",
    "In this activity, you will use Keras to build a neural network model that predicts whether a credit card customer will default on their debt."
   ]
  },
  {
   "cell_type": "code",
   "execution_count": 1,
   "metadata": {},
   "outputs": [],
   "source": [
    "# Imports\n",
    "import pandas as pd\n",
    "from sklearn.preprocessing import StandardScaler\n",
    "from sklearn.model_selection import train_test_split"
   ]
  },
  {
   "cell_type": "markdown",
   "metadata": {},
   "source": [
    "## Step 1: Read the CSV file into a Pandas DataFrame."
   ]
  },
  {
   "cell_type": "code",
   "execution_count": 2,
   "metadata": {},
   "outputs": [
    {
     "data": {
      "text/html": [
       "<div>\n",
       "<style scoped>\n",
       "    .dataframe tbody tr th:only-of-type {\n",
       "        vertical-align: middle;\n",
       "    }\n",
       "\n",
       "    .dataframe tbody tr th {\n",
       "        vertical-align: top;\n",
       "    }\n",
       "\n",
       "    .dataframe thead th {\n",
       "        text-align: right;\n",
       "    }\n",
       "</style>\n",
       "<table border=\"1\" class=\"dataframe\">\n",
       "  <thead>\n",
       "    <tr style=\"text-align: right;\">\n",
       "      <th></th>\n",
       "      <th>LIMIT_BAL</th>\n",
       "      <th>EDUCATION</th>\n",
       "      <th>MARITAL_STATUS</th>\n",
       "      <th>AGE</th>\n",
       "      <th>PAY_0</th>\n",
       "      <th>PAY_2</th>\n",
       "      <th>PAY_3</th>\n",
       "      <th>PAY_4</th>\n",
       "      <th>PAY_5</th>\n",
       "      <th>PAY_6</th>\n",
       "      <th>...</th>\n",
       "      <th>\"BILL_AMT4\"</th>\n",
       "      <th>BILL_AMT5</th>\n",
       "      <th>BILL_AMT6</th>\n",
       "      <th>PAY_AMT1</th>\n",
       "      <th>PAY_AMT2</th>\n",
       "      <th>PAY_AMT3</th>\n",
       "      <th>PAY_AMT4</th>\n",
       "      <th>PAY_AMT5</th>\n",
       "      <th>PAY_AMT6</th>\n",
       "      <th>DEFAULT</th>\n",
       "    </tr>\n",
       "  </thead>\n",
       "  <tbody>\n",
       "    <tr>\n",
       "      <th>0</th>\n",
       "      <td>20000</td>\n",
       "      <td>2</td>\n",
       "      <td>1</td>\n",
       "      <td>24</td>\n",
       "      <td>2</td>\n",
       "      <td>2</td>\n",
       "      <td>-1</td>\n",
       "      <td>-1</td>\n",
       "      <td>-2</td>\n",
       "      <td>-2</td>\n",
       "      <td>...</td>\n",
       "      <td>0</td>\n",
       "      <td>0</td>\n",
       "      <td>0</td>\n",
       "      <td>0</td>\n",
       "      <td>689</td>\n",
       "      <td>0</td>\n",
       "      <td>0</td>\n",
       "      <td>0</td>\n",
       "      <td>0</td>\n",
       "      <td>1</td>\n",
       "    </tr>\n",
       "    <tr>\n",
       "      <th>1</th>\n",
       "      <td>120000</td>\n",
       "      <td>2</td>\n",
       "      <td>2</td>\n",
       "      <td>26</td>\n",
       "      <td>-1</td>\n",
       "      <td>2</td>\n",
       "      <td>0</td>\n",
       "      <td>0</td>\n",
       "      <td>0</td>\n",
       "      <td>2</td>\n",
       "      <td>...</td>\n",
       "      <td>3272</td>\n",
       "      <td>3455</td>\n",
       "      <td>3261</td>\n",
       "      <td>0</td>\n",
       "      <td>1000</td>\n",
       "      <td>1000</td>\n",
       "      <td>1000</td>\n",
       "      <td>0</td>\n",
       "      <td>2000</td>\n",
       "      <td>1</td>\n",
       "    </tr>\n",
       "    <tr>\n",
       "      <th>2</th>\n",
       "      <td>90000</td>\n",
       "      <td>2</td>\n",
       "      <td>2</td>\n",
       "      <td>34</td>\n",
       "      <td>0</td>\n",
       "      <td>0</td>\n",
       "      <td>0</td>\n",
       "      <td>0</td>\n",
       "      <td>0</td>\n",
       "      <td>0</td>\n",
       "      <td>...</td>\n",
       "      <td>14331</td>\n",
       "      <td>14948</td>\n",
       "      <td>15549</td>\n",
       "      <td>1518</td>\n",
       "      <td>1500</td>\n",
       "      <td>1000</td>\n",
       "      <td>1000</td>\n",
       "      <td>1000</td>\n",
       "      <td>5000</td>\n",
       "      <td>0</td>\n",
       "    </tr>\n",
       "    <tr>\n",
       "      <th>3</th>\n",
       "      <td>50000</td>\n",
       "      <td>2</td>\n",
       "      <td>1</td>\n",
       "      <td>37</td>\n",
       "      <td>0</td>\n",
       "      <td>0</td>\n",
       "      <td>0</td>\n",
       "      <td>0</td>\n",
       "      <td>0</td>\n",
       "      <td>0</td>\n",
       "      <td>...</td>\n",
       "      <td>28314</td>\n",
       "      <td>28959</td>\n",
       "      <td>29547</td>\n",
       "      <td>2000</td>\n",
       "      <td>2019</td>\n",
       "      <td>1200</td>\n",
       "      <td>1100</td>\n",
       "      <td>1069</td>\n",
       "      <td>1000</td>\n",
       "      <td>0</td>\n",
       "    </tr>\n",
       "    <tr>\n",
       "      <th>4</th>\n",
       "      <td>50000</td>\n",
       "      <td>2</td>\n",
       "      <td>1</td>\n",
       "      <td>57</td>\n",
       "      <td>-1</td>\n",
       "      <td>0</td>\n",
       "      <td>-1</td>\n",
       "      <td>0</td>\n",
       "      <td>0</td>\n",
       "      <td>0</td>\n",
       "      <td>...</td>\n",
       "      <td>20940</td>\n",
       "      <td>19146</td>\n",
       "      <td>19131</td>\n",
       "      <td>2000</td>\n",
       "      <td>36681</td>\n",
       "      <td>10000</td>\n",
       "      <td>9000</td>\n",
       "      <td>689</td>\n",
       "      <td>679</td>\n",
       "      <td>0</td>\n",
       "    </tr>\n",
       "  </tbody>\n",
       "</table>\n",
       "<p>5 rows × 23 columns</p>\n",
       "</div>"
      ],
      "text/plain": [
       "   LIMIT_BAL  EDUCATION  MARITAL_STATUS  AGE  PAY_0  PAY_2  PAY_3  PAY_4  \\\n",
       "0      20000          2               1   24      2      2     -1     -1   \n",
       "1     120000          2               2   26     -1      2      0      0   \n",
       "2      90000          2               2   34      0      0      0      0   \n",
       "3      50000          2               1   37      0      0      0      0   \n",
       "4      50000          2               1   57     -1      0     -1      0   \n",
       "\n",
       "   PAY_5  PAY_6  ...           \"BILL_AMT4\"  BILL_AMT5  BILL_AMT6  PAY_AMT1  \\\n",
       "0     -2     -2  ...                     0          0          0         0   \n",
       "1      0      2  ...                  3272       3455       3261         0   \n",
       "2      0      0  ...                 14331      14948      15549      1518   \n",
       "3      0      0  ...                 28314      28959      29547      2000   \n",
       "4      0      0  ...                 20940      19146      19131      2000   \n",
       "\n",
       "   PAY_AMT2  PAY_AMT3  PAY_AMT4  PAY_AMT5  PAY_AMT6  DEFAULT  \n",
       "0       689         0         0         0         0        1  \n",
       "1      1000      1000      1000         0      2000        1  \n",
       "2      1500      1000      1000      1000      5000        0  \n",
       "3      2019      1200      1100      1069      1000        0  \n",
       "4     36681     10000      9000       689       679        0  \n",
       "\n",
       "[5 rows x 23 columns]"
      ]
     },
     "execution_count": 2,
     "metadata": {},
     "output_type": "execute_result"
    }
   ],
   "source": [
    "# Read the cc_default.csv file into a Pandas DataFrame\n",
    "file_path = \"https://static.bc-edx.com/mbc/ai/m6/datasets/cc_default.csv\"\n",
    "cc_df = pd.read_csv(file_path)\n",
    "\n",
    "# Review the DataFrame\n",
    "cc_df.head()"
   ]
  },
  {
   "cell_type": "markdown",
   "metadata": {},
   "source": [
    "## Step 2: Define the features set `X` by including all of the DataFrame columns except the “DEFAULT” column."
   ]
  },
  {
   "cell_type": "code",
   "execution_count": 3,
   "metadata": {},
   "outputs": [
    {
     "data": {
      "text/html": [
       "<div>\n",
       "<style scoped>\n",
       "    .dataframe tbody tr th:only-of-type {\n",
       "        vertical-align: middle;\n",
       "    }\n",
       "\n",
       "    .dataframe tbody tr th {\n",
       "        vertical-align: top;\n",
       "    }\n",
       "\n",
       "    .dataframe thead th {\n",
       "        text-align: right;\n",
       "    }\n",
       "</style>\n",
       "<table border=\"1\" class=\"dataframe\">\n",
       "  <thead>\n",
       "    <tr style=\"text-align: right;\">\n",
       "      <th></th>\n",
       "      <th>LIMIT_BAL</th>\n",
       "      <th>EDUCATION</th>\n",
       "      <th>MARITAL_STATUS</th>\n",
       "      <th>AGE</th>\n",
       "      <th>PAY_0</th>\n",
       "      <th>PAY_2</th>\n",
       "      <th>PAY_3</th>\n",
       "      <th>PAY_4</th>\n",
       "      <th>PAY_5</th>\n",
       "      <th>PAY_6</th>\n",
       "      <th>...</th>\n",
       "      <th>BILL_AMT3</th>\n",
       "      <th>\"BILL_AMT4\"</th>\n",
       "      <th>BILL_AMT5</th>\n",
       "      <th>BILL_AMT6</th>\n",
       "      <th>PAY_AMT1</th>\n",
       "      <th>PAY_AMT2</th>\n",
       "      <th>PAY_AMT3</th>\n",
       "      <th>PAY_AMT4</th>\n",
       "      <th>PAY_AMT5</th>\n",
       "      <th>PAY_AMT6</th>\n",
       "    </tr>\n",
       "  </thead>\n",
       "  <tbody>\n",
       "    <tr>\n",
       "      <th>0</th>\n",
       "      <td>20000</td>\n",
       "      <td>2</td>\n",
       "      <td>1</td>\n",
       "      <td>24</td>\n",
       "      <td>2</td>\n",
       "      <td>2</td>\n",
       "      <td>-1</td>\n",
       "      <td>-1</td>\n",
       "      <td>-2</td>\n",
       "      <td>-2</td>\n",
       "      <td>...</td>\n",
       "      <td>689</td>\n",
       "      <td>0</td>\n",
       "      <td>0</td>\n",
       "      <td>0</td>\n",
       "      <td>0</td>\n",
       "      <td>689</td>\n",
       "      <td>0</td>\n",
       "      <td>0</td>\n",
       "      <td>0</td>\n",
       "      <td>0</td>\n",
       "    </tr>\n",
       "    <tr>\n",
       "      <th>1</th>\n",
       "      <td>120000</td>\n",
       "      <td>2</td>\n",
       "      <td>2</td>\n",
       "      <td>26</td>\n",
       "      <td>-1</td>\n",
       "      <td>2</td>\n",
       "      <td>0</td>\n",
       "      <td>0</td>\n",
       "      <td>0</td>\n",
       "      <td>2</td>\n",
       "      <td>...</td>\n",
       "      <td>2682</td>\n",
       "      <td>3272</td>\n",
       "      <td>3455</td>\n",
       "      <td>3261</td>\n",
       "      <td>0</td>\n",
       "      <td>1000</td>\n",
       "      <td>1000</td>\n",
       "      <td>1000</td>\n",
       "      <td>0</td>\n",
       "      <td>2000</td>\n",
       "    </tr>\n",
       "    <tr>\n",
       "      <th>2</th>\n",
       "      <td>90000</td>\n",
       "      <td>2</td>\n",
       "      <td>2</td>\n",
       "      <td>34</td>\n",
       "      <td>0</td>\n",
       "      <td>0</td>\n",
       "      <td>0</td>\n",
       "      <td>0</td>\n",
       "      <td>0</td>\n",
       "      <td>0</td>\n",
       "      <td>...</td>\n",
       "      <td>13559</td>\n",
       "      <td>14331</td>\n",
       "      <td>14948</td>\n",
       "      <td>15549</td>\n",
       "      <td>1518</td>\n",
       "      <td>1500</td>\n",
       "      <td>1000</td>\n",
       "      <td>1000</td>\n",
       "      <td>1000</td>\n",
       "      <td>5000</td>\n",
       "    </tr>\n",
       "    <tr>\n",
       "      <th>3</th>\n",
       "      <td>50000</td>\n",
       "      <td>2</td>\n",
       "      <td>1</td>\n",
       "      <td>37</td>\n",
       "      <td>0</td>\n",
       "      <td>0</td>\n",
       "      <td>0</td>\n",
       "      <td>0</td>\n",
       "      <td>0</td>\n",
       "      <td>0</td>\n",
       "      <td>...</td>\n",
       "      <td>49291</td>\n",
       "      <td>28314</td>\n",
       "      <td>28959</td>\n",
       "      <td>29547</td>\n",
       "      <td>2000</td>\n",
       "      <td>2019</td>\n",
       "      <td>1200</td>\n",
       "      <td>1100</td>\n",
       "      <td>1069</td>\n",
       "      <td>1000</td>\n",
       "    </tr>\n",
       "    <tr>\n",
       "      <th>4</th>\n",
       "      <td>50000</td>\n",
       "      <td>2</td>\n",
       "      <td>1</td>\n",
       "      <td>57</td>\n",
       "      <td>-1</td>\n",
       "      <td>0</td>\n",
       "      <td>-1</td>\n",
       "      <td>0</td>\n",
       "      <td>0</td>\n",
       "      <td>0</td>\n",
       "      <td>...</td>\n",
       "      <td>35835</td>\n",
       "      <td>20940</td>\n",
       "      <td>19146</td>\n",
       "      <td>19131</td>\n",
       "      <td>2000</td>\n",
       "      <td>36681</td>\n",
       "      <td>10000</td>\n",
       "      <td>9000</td>\n",
       "      <td>689</td>\n",
       "      <td>679</td>\n",
       "    </tr>\n",
       "  </tbody>\n",
       "</table>\n",
       "<p>5 rows × 22 columns</p>\n",
       "</div>"
      ],
      "text/plain": [
       "   LIMIT_BAL  EDUCATION  MARITAL_STATUS  AGE  PAY_0  PAY_2  PAY_3  PAY_4  \\\n",
       "0      20000          2               1   24      2      2     -1     -1   \n",
       "1     120000          2               2   26     -1      2      0      0   \n",
       "2      90000          2               2   34      0      0      0      0   \n",
       "3      50000          2               1   37      0      0      0      0   \n",
       "4      50000          2               1   57     -1      0     -1      0   \n",
       "\n",
       "   PAY_5  PAY_6  ...  BILL_AMT3           \"BILL_AMT4\"  BILL_AMT5  BILL_AMT6  \\\n",
       "0     -2     -2  ...        689                     0          0          0   \n",
       "1      0      2  ...       2682                  3272       3455       3261   \n",
       "2      0      0  ...      13559                 14331      14948      15549   \n",
       "3      0      0  ...      49291                 28314      28959      29547   \n",
       "4      0      0  ...      35835                 20940      19146      19131   \n",
       "\n",
       "   PAY_AMT1  PAY_AMT2  PAY_AMT3  PAY_AMT4  PAY_AMT5  PAY_AMT6  \n",
       "0         0       689         0         0         0         0  \n",
       "1         0      1000      1000      1000         0      2000  \n",
       "2      1518      1500      1000      1000      1000      5000  \n",
       "3      2000      2019      1200      1100      1069      1000  \n",
       "4      2000     36681     10000      9000       689       679  \n",
       "\n",
       "[5 rows x 22 columns]"
      ]
     },
     "execution_count": 3,
     "metadata": {},
     "output_type": "execute_result"
    }
   ],
   "source": [
    "# Define features set X by selecting all columns but DEFAULT\n",
    "X = cc_df.drop(columns=[\"DEFAULT\"]).copy()\n",
    "\n",
    "# Display the features DataFrame\n",
    "X.head()"
   ]
  },
  {
   "cell_type": "markdown",
   "metadata": {},
   "source": [
    "## Step 3: Create the target `y` by assigning the values of the DataFrame “DEFAULT” column."
   ]
  },
  {
   "cell_type": "code",
   "execution_count": 4,
   "metadata": {},
   "outputs": [
    {
     "data": {
      "text/plain": [
       "0    1\n",
       "1    1\n",
       "2    0\n",
       "3    0\n",
       "4    0\n",
       "Name: DEFAULT, dtype: int64"
      ]
     },
     "execution_count": 4,
     "metadata": {},
     "output_type": "execute_result"
    }
   ],
   "source": [
    "# Define target set by selecting the DEFAULT column\n",
    "y = cc_df[\"DEFAULT\"]\n",
    "\n",
    "# Display a sample y\n",
    "y[:5]"
   ]
  },
  {
   "cell_type": "markdown",
   "metadata": {},
   "source": [
    "## Step 4: Create the training and testing sets using the `train_test_split` function from scikit-learn."
   ]
  },
  {
   "cell_type": "code",
   "execution_count": 5,
   "metadata": {},
   "outputs": [],
   "source": [
    "# Create training and testing datasets using train_test_split\n",
    "# Assign the function a random_state equal to 1\n",
    "X_train, X_test, y_train, y_test = train_test_split(X, y, random_state=1)"
   ]
  },
  {
   "cell_type": "markdown",
   "metadata": {},
   "source": [
    "## Step 5: Scale the features data using the `StandardScaler` from sklearn."
   ]
  },
  {
   "cell_type": "code",
   "execution_count": 6,
   "metadata": {},
   "outputs": [],
   "source": [
    "# Create the StandardScaler instance\n",
    "X_scaler = StandardScaler()"
   ]
  },
  {
   "cell_type": "code",
   "execution_count": 8,
   "metadata": {},
   "outputs": [
    {
     "data": {
      "text/html": [
       "<style>#sk-container-id-2 {color: black;background-color: white;}#sk-container-id-2 pre{padding: 0;}#sk-container-id-2 div.sk-toggleable {background-color: white;}#sk-container-id-2 label.sk-toggleable__label {cursor: pointer;display: block;width: 100%;margin-bottom: 0;padding: 0.3em;box-sizing: border-box;text-align: center;}#sk-container-id-2 label.sk-toggleable__label-arrow:before {content: \"▸\";float: left;margin-right: 0.25em;color: #696969;}#sk-container-id-2 label.sk-toggleable__label-arrow:hover:before {color: black;}#sk-container-id-2 div.sk-estimator:hover label.sk-toggleable__label-arrow:before {color: black;}#sk-container-id-2 div.sk-toggleable__content {max-height: 0;max-width: 0;overflow: hidden;text-align: left;background-color: #f0f8ff;}#sk-container-id-2 div.sk-toggleable__content pre {margin: 0.2em;color: black;border-radius: 0.25em;background-color: #f0f8ff;}#sk-container-id-2 input.sk-toggleable__control:checked~div.sk-toggleable__content {max-height: 200px;max-width: 100%;overflow: auto;}#sk-container-id-2 input.sk-toggleable__control:checked~label.sk-toggleable__label-arrow:before {content: \"▾\";}#sk-container-id-2 div.sk-estimator input.sk-toggleable__control:checked~label.sk-toggleable__label {background-color: #d4ebff;}#sk-container-id-2 div.sk-label input.sk-toggleable__control:checked~label.sk-toggleable__label {background-color: #d4ebff;}#sk-container-id-2 input.sk-hidden--visually {border: 0;clip: rect(1px 1px 1px 1px);clip: rect(1px, 1px, 1px, 1px);height: 1px;margin: -1px;overflow: hidden;padding: 0;position: absolute;width: 1px;}#sk-container-id-2 div.sk-estimator {font-family: monospace;background-color: #f0f8ff;border: 1px dotted black;border-radius: 0.25em;box-sizing: border-box;margin-bottom: 0.5em;}#sk-container-id-2 div.sk-estimator:hover {background-color: #d4ebff;}#sk-container-id-2 div.sk-parallel-item::after {content: \"\";width: 100%;border-bottom: 1px solid gray;flex-grow: 1;}#sk-container-id-2 div.sk-label:hover label.sk-toggleable__label {background-color: #d4ebff;}#sk-container-id-2 div.sk-serial::before {content: \"\";position: absolute;border-left: 1px solid gray;box-sizing: border-box;top: 0;bottom: 0;left: 50%;z-index: 0;}#sk-container-id-2 div.sk-serial {display: flex;flex-direction: column;align-items: center;background-color: white;padding-right: 0.2em;padding-left: 0.2em;position: relative;}#sk-container-id-2 div.sk-item {position: relative;z-index: 1;}#sk-container-id-2 div.sk-parallel {display: flex;align-items: stretch;justify-content: center;background-color: white;position: relative;}#sk-container-id-2 div.sk-item::before, #sk-container-id-2 div.sk-parallel-item::before {content: \"\";position: absolute;border-left: 1px solid gray;box-sizing: border-box;top: 0;bottom: 0;left: 50%;z-index: -1;}#sk-container-id-2 div.sk-parallel-item {display: flex;flex-direction: column;z-index: 1;position: relative;background-color: white;}#sk-container-id-2 div.sk-parallel-item:first-child::after {align-self: flex-end;width: 50%;}#sk-container-id-2 div.sk-parallel-item:last-child::after {align-self: flex-start;width: 50%;}#sk-container-id-2 div.sk-parallel-item:only-child::after {width: 0;}#sk-container-id-2 div.sk-dashed-wrapped {border: 1px dashed gray;margin: 0 0.4em 0.5em 0.4em;box-sizing: border-box;padding-bottom: 0.4em;background-color: white;}#sk-container-id-2 div.sk-label label {font-family: monospace;font-weight: bold;display: inline-block;line-height: 1.2em;}#sk-container-id-2 div.sk-label-container {text-align: center;}#sk-container-id-2 div.sk-container {/* jupyter's `normalize.less` sets `[hidden] { display: none; }` but bootstrap.min.css set `[hidden] { display: none !important; }` so we also need the `!important` here to be able to override the default hidden behavior on the sphinx rendered scikit-learn.org. See: https://github.com/scikit-learn/scikit-learn/issues/21755 */display: inline-block !important;position: relative;}#sk-container-id-2 div.sk-text-repr-fallback {display: none;}</style><div id=\"sk-container-id-2\" class=\"sk-top-container\"><div class=\"sk-text-repr-fallback\"><pre>StandardScaler()</pre><b>In a Jupyter environment, please rerun this cell to show the HTML representation or trust the notebook. <br />On GitHub, the HTML representation is unable to render, please try loading this page with nbviewer.org.</b></div><div class=\"sk-container\" hidden><div class=\"sk-item\"><div class=\"sk-estimator sk-toggleable\"><input class=\"sk-toggleable__control sk-hidden--visually\" id=\"sk-estimator-id-2\" type=\"checkbox\" checked><label for=\"sk-estimator-id-2\" class=\"sk-toggleable__label sk-toggleable__label-arrow\">StandardScaler</label><div class=\"sk-toggleable__content\"><pre>StandardScaler()</pre></div></div></div></div></div>"
      ],
      "text/plain": [
       "StandardScaler()"
      ]
     },
     "execution_count": 8,
     "metadata": {},
     "output_type": "execute_result"
    }
   ],
   "source": [
    "# Fit the scaler to the features training dataset\n",
    "X_scaler.fit(X_train)"
   ]
  },
  {
   "cell_type": "code",
   "execution_count": 9,
   "metadata": {},
   "outputs": [],
   "source": [
    "# Scale both the training and testing data from the features dataset\n",
    "X_train_scaled = X_scaler.transform(X_train)\n",
    "X_test_scaled = X_scaler.transform(X_test)"
   ]
  },
  {
   "cell_type": "markdown",
   "metadata": {},
   "source": [
    "## Step 6: Create a neural network model with an input layer that consists of 22 inputs, one hidden layer, and an output layer. Use the `units` parameter to define 12 neurons for the hidden layer and a single output for the output layer. Use the ReLU activation function for the hidden layer and the sigmoid activation function for the output layer."
   ]
  },
  {
   "cell_type": "code",
   "execution_count": 10,
   "metadata": {},
   "outputs": [],
   "source": [
    "# Imports\n",
    "import tensorflow as tf\n",
    "from tensorflow.keras.layers import Dense\n",
    "from tensorflow.keras.models import Sequential"
   ]
  },
  {
   "cell_type": "code",
   "execution_count": 11,
   "metadata": {},
   "outputs": [],
   "source": [
    "# Define the the number of inputs to the model\n",
    "number_inputs = 22\n",
    "\n",
    "# Define the number of hidden nodes for the model\n",
    "number_hidden_nodes = 12\n",
    "\n",
    "# Create the Sequential model instance\n",
    "neuron = Sequential()\n",
    "\n",
    "# Add a Dense layer specifying the number of inputs, the number of hidden nodes, and the activation function\n",
    "neuron.add(Dense(units=number_hidden_nodes, input_dim=number_inputs, activation=\"relu\"))\n",
    "\n",
    "# Add the output layer to the model specifying the number of output neurons and activation function\n",
    "neuron.add(Dense(1, activation=\"sigmoid\"))"
   ]
  },
  {
   "cell_type": "markdown",
   "metadata": {},
   "source": [
    "## Step 7: Display the model structure using the `summary` function."
   ]
  },
  {
   "cell_type": "code",
   "execution_count": 12,
   "metadata": {},
   "outputs": [
    {
     "name": "stdout",
     "output_type": "stream",
     "text": [
      "Model: \"sequential\"\n",
      "_________________________________________________________________\n",
      " Layer (type)                Output Shape              Param #   \n",
      "=================================================================\n",
      " dense (Dense)               (None, 12)                276       \n",
      "                                                                 \n",
      " dense_1 (Dense)             (None, 1)                 13        \n",
      "                                                                 \n",
      "=================================================================\n",
      "Total params: 289 (1.13 KB)\n",
      "Trainable params: 289 (1.13 KB)\n",
      "Non-trainable params: 0 (0.00 Byte)\n",
      "_________________________________________________________________\n"
     ]
    }
   ],
   "source": [
    "# Display the Sequential model summary\n",
    "neuron.summary()"
   ]
  },
  {
   "cell_type": "markdown",
   "metadata": {},
   "source": [
    "##### The number of params for the first Dense layer is (22 x 12) + 12 = 276\n",
    "##### The number of params for the second Dense layer is (12 x 1) + 1 = 13"
   ]
  },
  {
   "cell_type": "markdown",
   "metadata": {},
   "source": [
    "## Step 8:  Compile the neural network model using the `binary_crossentropy` loss function, the `adam` optimizer, and the additional metric `accuracy`."
   ]
  },
  {
   "cell_type": "code",
   "execution_count": 13,
   "metadata": {
    "tags": []
   },
   "outputs": [],
   "source": [
    "# Compile the Sequential model\n",
    "neuron.compile(loss=\"binary_crossentropy\", optimizer=\"adam\", metrics=[\"accuracy\"])"
   ]
  },
  {
   "cell_type": "markdown",
   "metadata": {},
   "source": [
    "## Step 9: Fit the model with 100 epochs using the training data."
   ]
  },
  {
   "cell_type": "code",
   "execution_count": 14,
   "metadata": {},
   "outputs": [
    {
     "name": "stdout",
     "output_type": "stream",
     "text": [
      "Epoch 1/100\n",
      "704/704 [==============================] - 0s 278us/step - loss: 0.5170 - accuracy: 0.7828\n",
      "Epoch 2/100\n",
      "704/704 [==============================] - 0s 270us/step - loss: 0.4639 - accuracy: 0.8122\n",
      "Epoch 3/100\n",
      "704/704 [==============================] - 0s 265us/step - loss: 0.4531 - accuracy: 0.8153\n",
      "Epoch 4/100\n",
      "704/704 [==============================] - 0s 267us/step - loss: 0.4474 - accuracy: 0.8177\n",
      "Epoch 5/100\n",
      "704/704 [==============================] - 0s 264us/step - loss: 0.4442 - accuracy: 0.8193\n",
      "Epoch 6/100\n",
      "704/704 [==============================] - 0s 261us/step - loss: 0.4416 - accuracy: 0.8196\n",
      "Epoch 7/100\n",
      "704/704 [==============================] - 0s 263us/step - loss: 0.4403 - accuracy: 0.8202\n",
      "Epoch 8/100\n",
      "704/704 [==============================] - 0s 266us/step - loss: 0.4391 - accuracy: 0.8208\n",
      "Epoch 9/100\n",
      "704/704 [==============================] - 0s 265us/step - loss: 0.4381 - accuracy: 0.8213\n",
      "Epoch 10/100\n",
      "704/704 [==============================] - 0s 263us/step - loss: 0.4374 - accuracy: 0.8213\n",
      "Epoch 11/100\n",
      "704/704 [==============================] - 0s 265us/step - loss: 0.4362 - accuracy: 0.8210\n",
      "Epoch 12/100\n",
      "704/704 [==============================] - 0s 265us/step - loss: 0.4359 - accuracy: 0.8213\n",
      "Epoch 13/100\n",
      "704/704 [==============================] - 0s 263us/step - loss: 0.4355 - accuracy: 0.8212\n",
      "Epoch 14/100\n",
      "704/704 [==============================] - 0s 256us/step - loss: 0.4350 - accuracy: 0.8214\n",
      "Epoch 15/100\n",
      "704/704 [==============================] - 0s 254us/step - loss: 0.4346 - accuracy: 0.8208\n",
      "Epoch 16/100\n",
      "704/704 [==============================] - 0s 257us/step - loss: 0.4340 - accuracy: 0.8213\n",
      "Epoch 17/100\n",
      "704/704 [==============================] - 0s 261us/step - loss: 0.4334 - accuracy: 0.8212\n",
      "Epoch 18/100\n",
      "704/704 [==============================] - 0s 264us/step - loss: 0.4334 - accuracy: 0.8207\n",
      "Epoch 19/100\n",
      "704/704 [==============================] - 0s 265us/step - loss: 0.4326 - accuracy: 0.8224\n",
      "Epoch 20/100\n",
      "704/704 [==============================] - 0s 265us/step - loss: 0.4321 - accuracy: 0.8210\n",
      "Epoch 21/100\n",
      "704/704 [==============================] - 0s 256us/step - loss: 0.4318 - accuracy: 0.8205\n",
      "Epoch 22/100\n",
      "704/704 [==============================] - 0s 266us/step - loss: 0.4319 - accuracy: 0.8220\n",
      "Epoch 23/100\n",
      "704/704 [==============================] - 0s 263us/step - loss: 0.4315 - accuracy: 0.8224\n",
      "Epoch 24/100\n",
      "704/704 [==============================] - 0s 261us/step - loss: 0.4315 - accuracy: 0.8222\n",
      "Epoch 25/100\n",
      "704/704 [==============================] - 0s 261us/step - loss: 0.4307 - accuracy: 0.8212\n",
      "Epoch 26/100\n",
      "704/704 [==============================] - 0s 261us/step - loss: 0.4308 - accuracy: 0.8213\n",
      "Epoch 27/100\n",
      "704/704 [==============================] - 0s 263us/step - loss: 0.4305 - accuracy: 0.8220\n",
      "Epoch 28/100\n",
      "704/704 [==============================] - 0s 268us/step - loss: 0.4304 - accuracy: 0.8215\n",
      "Epoch 29/100\n",
      "704/704 [==============================] - 0s 272us/step - loss: 0.4302 - accuracy: 0.8217\n",
      "Epoch 30/100\n",
      "704/704 [==============================] - 0s 270us/step - loss: 0.4301 - accuracy: 0.8216\n",
      "Epoch 31/100\n",
      "704/704 [==============================] - 0s 268us/step - loss: 0.4300 - accuracy: 0.8224\n",
      "Epoch 32/100\n",
      "704/704 [==============================] - 0s 265us/step - loss: 0.4302 - accuracy: 0.8225\n",
      "Epoch 33/100\n",
      "704/704 [==============================] - 0s 261us/step - loss: 0.4296 - accuracy: 0.8222\n",
      "Epoch 34/100\n",
      "704/704 [==============================] - 0s 265us/step - loss: 0.4298 - accuracy: 0.8223\n",
      "Epoch 35/100\n",
      "704/704 [==============================] - 0s 265us/step - loss: 0.4294 - accuracy: 0.8215\n",
      "Epoch 36/100\n",
      "704/704 [==============================] - 0s 264us/step - loss: 0.4289 - accuracy: 0.8224\n",
      "Epoch 37/100\n",
      "704/704 [==============================] - 0s 262us/step - loss: 0.4292 - accuracy: 0.8221\n",
      "Epoch 38/100\n",
      "704/704 [==============================] - 0s 265us/step - loss: 0.4291 - accuracy: 0.8220\n",
      "Epoch 39/100\n",
      "704/704 [==============================] - 0s 267us/step - loss: 0.4287 - accuracy: 0.8223\n",
      "Epoch 40/100\n",
      "704/704 [==============================] - 0s 260us/step - loss: 0.4289 - accuracy: 0.8225\n",
      "Epoch 41/100\n",
      "704/704 [==============================] - 0s 258us/step - loss: 0.4285 - accuracy: 0.8228\n",
      "Epoch 42/100\n",
      "704/704 [==============================] - 0s 259us/step - loss: 0.4285 - accuracy: 0.8237\n",
      "Epoch 43/100\n",
      "704/704 [==============================] - 0s 264us/step - loss: 0.4284 - accuracy: 0.8216\n",
      "Epoch 44/100\n",
      "704/704 [==============================] - 0s 264us/step - loss: 0.4281 - accuracy: 0.8222\n",
      "Epoch 45/100\n",
      "704/704 [==============================] - 0s 262us/step - loss: 0.4284 - accuracy: 0.8223\n",
      "Epoch 46/100\n",
      "704/704 [==============================] - 0s 259us/step - loss: 0.4279 - accuracy: 0.8229\n",
      "Epoch 47/100\n",
      "704/704 [==============================] - 0s 261us/step - loss: 0.4278 - accuracy: 0.8226\n",
      "Epoch 48/100\n",
      "704/704 [==============================] - 0s 264us/step - loss: 0.4282 - accuracy: 0.8230\n",
      "Epoch 49/100\n",
      "704/704 [==============================] - 0s 264us/step - loss: 0.4279 - accuracy: 0.8224\n",
      "Epoch 50/100\n",
      "704/704 [==============================] - 0s 261us/step - loss: 0.4276 - accuracy: 0.8225\n",
      "Epoch 51/100\n",
      "704/704 [==============================] - 0s 263us/step - loss: 0.4280 - accuracy: 0.8231\n",
      "Epoch 52/100\n",
      "704/704 [==============================] - 0s 262us/step - loss: 0.4277 - accuracy: 0.8224\n",
      "Epoch 53/100\n",
      "704/704 [==============================] - 0s 264us/step - loss: 0.4274 - accuracy: 0.8226\n",
      "Epoch 54/100\n",
      "704/704 [==============================] - 0s 264us/step - loss: 0.4271 - accuracy: 0.8217\n",
      "Epoch 55/100\n",
      "704/704 [==============================] - 0s 268us/step - loss: 0.4273 - accuracy: 0.8213\n",
      "Epoch 56/100\n",
      "704/704 [==============================] - 0s 264us/step - loss: 0.4273 - accuracy: 0.8236\n",
      "Epoch 57/100\n",
      "704/704 [==============================] - 0s 261us/step - loss: 0.4271 - accuracy: 0.8235\n",
      "Epoch 58/100\n",
      "704/704 [==============================] - 0s 264us/step - loss: 0.4266 - accuracy: 0.8229\n",
      "Epoch 59/100\n",
      "704/704 [==============================] - 0s 261us/step - loss: 0.4270 - accuracy: 0.8234\n",
      "Epoch 60/100\n",
      "704/704 [==============================] - 0s 265us/step - loss: 0.4269 - accuracy: 0.8235\n",
      "Epoch 61/100\n",
      "704/704 [==============================] - 0s 263us/step - loss: 0.4262 - accuracy: 0.8231\n",
      "Epoch 62/100\n",
      "704/704 [==============================] - 0s 264us/step - loss: 0.4267 - accuracy: 0.8234\n",
      "Epoch 63/100\n",
      "704/704 [==============================] - 0s 262us/step - loss: 0.4265 - accuracy: 0.8228\n",
      "Epoch 64/100\n",
      "704/704 [==============================] - 0s 265us/step - loss: 0.4262 - accuracy: 0.8227\n",
      "Epoch 65/100\n",
      "704/704 [==============================] - 0s 262us/step - loss: 0.4263 - accuracy: 0.8231\n",
      "Epoch 66/100\n",
      "704/704 [==============================] - 0s 265us/step - loss: 0.4264 - accuracy: 0.8237\n",
      "Epoch 67/100\n",
      "704/704 [==============================] - 0s 267us/step - loss: 0.4258 - accuracy: 0.8228\n",
      "Epoch 68/100\n",
      "704/704 [==============================] - 0s 263us/step - loss: 0.4262 - accuracy: 0.8228\n",
      "Epoch 69/100\n",
      "704/704 [==============================] - 0s 263us/step - loss: 0.4264 - accuracy: 0.8229\n",
      "Epoch 70/100\n",
      "704/704 [==============================] - 0s 265us/step - loss: 0.4258 - accuracy: 0.8227\n",
      "Epoch 71/100\n",
      "704/704 [==============================] - 0s 263us/step - loss: 0.4266 - accuracy: 0.8221\n",
      "Epoch 72/100\n",
      "704/704 [==============================] - 0s 264us/step - loss: 0.4261 - accuracy: 0.8217\n",
      "Epoch 73/100\n",
      "704/704 [==============================] - 0s 265us/step - loss: 0.4260 - accuracy: 0.8227\n",
      "Epoch 74/100\n",
      "704/704 [==============================] - 0s 261us/step - loss: 0.4260 - accuracy: 0.8227\n",
      "Epoch 75/100\n",
      "704/704 [==============================] - 0s 261us/step - loss: 0.4258 - accuracy: 0.8230\n",
      "Epoch 76/100\n",
      "704/704 [==============================] - 0s 261us/step - loss: 0.4255 - accuracy: 0.8220\n",
      "Epoch 77/100\n",
      "704/704 [==============================] - 0s 263us/step - loss: 0.4258 - accuracy: 0.8231\n",
      "Epoch 78/100\n",
      "704/704 [==============================] - 0s 260us/step - loss: 0.4259 - accuracy: 0.8232\n",
      "Epoch 79/100\n"
     ]
    },
    {
     "name": "stdout",
     "output_type": "stream",
     "text": [
      "704/704 [==============================] - 0s 261us/step - loss: 0.4253 - accuracy: 0.8220\n",
      "Epoch 80/100\n",
      "704/704 [==============================] - 0s 262us/step - loss: 0.4259 - accuracy: 0.8219\n",
      "Epoch 81/100\n",
      "704/704 [==============================] - 0s 260us/step - loss: 0.4254 - accuracy: 0.8228\n",
      "Epoch 82/100\n",
      "704/704 [==============================] - 0s 265us/step - loss: 0.4257 - accuracy: 0.8231\n",
      "Epoch 83/100\n",
      "704/704 [==============================] - 0s 265us/step - loss: 0.4251 - accuracy: 0.8236\n",
      "Epoch 84/100\n",
      "704/704 [==============================] - 0s 256us/step - loss: 0.4249 - accuracy: 0.8227\n",
      "Epoch 85/100\n",
      "704/704 [==============================] - 0s 253us/step - loss: 0.4252 - accuracy: 0.8226\n",
      "Epoch 86/100\n",
      "704/704 [==============================] - 0s 260us/step - loss: 0.4252 - accuracy: 0.8223\n",
      "Epoch 87/100\n",
      "704/704 [==============================] - 0s 265us/step - loss: 0.4250 - accuracy: 0.8228\n",
      "Epoch 88/100\n",
      "704/704 [==============================] - 0s 265us/step - loss: 0.4252 - accuracy: 0.8218\n",
      "Epoch 89/100\n",
      "704/704 [==============================] - 0s 260us/step - loss: 0.4246 - accuracy: 0.8232\n",
      "Epoch 90/100\n",
      "704/704 [==============================] - 0s 260us/step - loss: 0.4250 - accuracy: 0.8226\n",
      "Epoch 91/100\n",
      "704/704 [==============================] - 0s 260us/step - loss: 0.4251 - accuracy: 0.8219\n",
      "Epoch 92/100\n",
      "704/704 [==============================] - 0s 262us/step - loss: 0.4248 - accuracy: 0.8228\n",
      "Epoch 93/100\n",
      "704/704 [==============================] - 0s 259us/step - loss: 0.4248 - accuracy: 0.8226\n",
      "Epoch 94/100\n",
      "704/704 [==============================] - 0s 259us/step - loss: 0.4247 - accuracy: 0.8224\n",
      "Epoch 95/100\n",
      "704/704 [==============================] - 0s 260us/step - loss: 0.4245 - accuracy: 0.8227\n",
      "Epoch 96/100\n",
      "704/704 [==============================] - 0s 260us/step - loss: 0.4244 - accuracy: 0.8223\n",
      "Epoch 97/100\n",
      "704/704 [==============================] - 0s 259us/step - loss: 0.4247 - accuracy: 0.8223\n",
      "Epoch 98/100\n",
      "704/704 [==============================] - 0s 262us/step - loss: 0.4248 - accuracy: 0.8240\n",
      "Epoch 99/100\n",
      "704/704 [==============================] - 0s 261us/step - loss: 0.4249 - accuracy: 0.8235\n",
      "Epoch 100/100\n",
      "704/704 [==============================] - 0s 262us/step - loss: 0.4245 - accuracy: 0.8231\n"
     ]
    }
   ],
   "source": [
    "# Fit the model using 100 epochs and the training data\n",
    "model = neuron.fit(X_train_scaled, y_train, epochs=100)"
   ]
  },
  {
   "cell_type": "markdown",
   "metadata": {},
   "source": [
    "## Step 10: Plot the model’s loss function and accuracy over the 100 epochs."
   ]
  },
  {
   "cell_type": "code",
   "execution_count": 15,
   "metadata": {},
   "outputs": [],
   "source": [
    "# Create a DataFrame using the model history and an index parameter\n",
    "model_plot = pd.DataFrame(model.history, index=range(1, len(model.history[\"loss\"]) + 1))"
   ]
  },
  {
   "cell_type": "code",
   "execution_count": 16,
   "metadata": {},
   "outputs": [
    {
     "data": {
      "text/plain": [
       "<Axes: >"
      ]
     },
     "execution_count": 16,
     "metadata": {},
     "output_type": "execute_result"
    },
    {
     "data": {
      "image/png": "[encoded data removed]",
      "text/plain": [
       "<Figure size 640x480 with 1 Axes>"
      ]
     },
     "metadata": {},
     "output_type": "display_data"
    }
   ],
   "source": [
    "# Visualize the model plot where the y-axis displays the loss metric\n",
    "model_plot.plot(y=\"loss\")"
   ]
  },
  {
   "cell_type": "code",
   "execution_count": 17,
   "metadata": {},
   "outputs": [
    {
     "data": {
      "text/plain": [
       "<Axes: >"
      ]
     },
     "execution_count": 17,
     "metadata": {},
     "output_type": "execute_result"
    },
    {
     "data": {
      "image/png": "[encoded data removed]",
      "text/plain": [
       "<Figure size 640x480 with 1 Axes>"
      ]
     },
     "metadata": {},
     "output_type": "display_data"
    }
   ],
   "source": [
    "# Visualize the model plot where the y-axis displays the accuracy metric\n",
    "model_plot.plot(y=\"accuracy\")"
   ]
  },
  {
   "cell_type": "markdown",
   "metadata": {},
   "source": [
    "## Step 11: Evaluate the model using testing data and the `evaluate` method."
   ]
  },
  {
   "cell_type": "code",
   "execution_count": 18,
   "metadata": {},
   "outputs": [
    {
     "name": "stdout",
     "output_type": "stream",
     "text": [
      "235/235 - 0s - loss: 0.4381 - accuracy: 0.8152 - 107ms/epoch - 454us/step\n",
      "Loss: 0.4381484091281891, Accuracy: 0.8151999711990356\n"
     ]
    }
   ],
   "source": [
    "# Evaluate the model loss and accuracy metrics using the evaluate method and the test data\n",
    "model_loss, model_accuracy = neuron.evaluate(X_test_scaled, y_test, verbose=2)\n",
    "\n",
    "# Display the evaluation results\n",
    "print(f\"Loss: {model_loss}, Accuracy: {model_accuracy}\")"
   ]
  },
  {
   "cell_type": "markdown",
   "metadata": {},
   "source": [
    "## Step 12: Use the model and your scaled `X` test data to predict the `y` values for the test data."
   ]
  },
  {
   "cell_type": "code",
   "execution_count": 19,
   "metadata": {},
   "outputs": [
    {
     "name": "stdout",
     "output_type": "stream",
     "text": [
      "235/235 [==============================] - 0s 194us/step\n"
     ]
    }
   ],
   "source": [
    "# Make predictions on test data\n",
    "predictions = (neuron.predict(X_test_scaled) > 0.5).astype(\"int32\")"
   ]
  },
  {
   "cell_type": "markdown",
   "metadata": {},
   "source": [
    "## Step 13: Create a dataframe that includes the predicted `y` values and the actual `y` values. Display a sample of this dataframe."
   ]
  },
  {
   "cell_type": "code",
   "execution_count": 20,
   "metadata": {},
   "outputs": [
    {
     "data": {
      "text/html": [
       "<div>\n",
       "<style scoped>\n",
       "    .dataframe tbody tr th:only-of-type {\n",
       "        vertical-align: middle;\n",
       "    }\n",
       "\n",
       "    .dataframe tbody tr th {\n",
       "        vertical-align: top;\n",
       "    }\n",
       "\n",
       "    .dataframe thead th {\n",
       "        text-align: right;\n",
       "    }\n",
       "</style>\n",
       "<table border=\"1\" class=\"dataframe\">\n",
       "  <thead>\n",
       "    <tr style=\"text-align: right;\">\n",
       "      <th></th>\n",
       "      <th>predictions</th>\n",
       "      <th>actual</th>\n",
       "    </tr>\n",
       "  </thead>\n",
       "  <tbody>\n",
       "    <tr>\n",
       "      <th>10747</th>\n",
       "      <td>0</td>\n",
       "      <td>0</td>\n",
       "    </tr>\n",
       "    <tr>\n",
       "      <th>12573</th>\n",
       "      <td>0</td>\n",
       "      <td>1</td>\n",
       "    </tr>\n",
       "    <tr>\n",
       "      <th>29676</th>\n",
       "      <td>0</td>\n",
       "      <td>0</td>\n",
       "    </tr>\n",
       "    <tr>\n",
       "      <th>8856</th>\n",
       "      <td>1</td>\n",
       "      <td>1</td>\n",
       "    </tr>\n",
       "    <tr>\n",
       "      <th>21098</th>\n",
       "      <td>0</td>\n",
       "      <td>0</td>\n",
       "    </tr>\n",
       "    <tr>\n",
       "      <th>17458</th>\n",
       "      <td>0</td>\n",
       "      <td>0</td>\n",
       "    </tr>\n",
       "    <tr>\n",
       "      <th>1476</th>\n",
       "      <td>0</td>\n",
       "      <td>0</td>\n",
       "    </tr>\n",
       "    <tr>\n",
       "      <th>5120</th>\n",
       "      <td>0</td>\n",
       "      <td>0</td>\n",
       "    </tr>\n",
       "    <tr>\n",
       "      <th>18338</th>\n",
       "      <td>0</td>\n",
       "      <td>0</td>\n",
       "    </tr>\n",
       "    <tr>\n",
       "      <th>28279</th>\n",
       "      <td>0</td>\n",
       "      <td>0</td>\n",
       "    </tr>\n",
       "    <tr>\n",
       "      <th>1684</th>\n",
       "      <td>0</td>\n",
       "      <td>0</td>\n",
       "    </tr>\n",
       "    <tr>\n",
       "      <th>20371</th>\n",
       "      <td>0</td>\n",
       "      <td>1</td>\n",
       "    </tr>\n",
       "    <tr>\n",
       "      <th>3608</th>\n",
       "      <td>0</td>\n",
       "      <td>0</td>\n",
       "    </tr>\n",
       "    <tr>\n",
       "      <th>13012</th>\n",
       "      <td>0</td>\n",
       "      <td>0</td>\n",
       "    </tr>\n",
       "    <tr>\n",
       "      <th>6793</th>\n",
       "      <td>0</td>\n",
       "      <td>0</td>\n",
       "    </tr>\n",
       "    <tr>\n",
       "      <th>5416</th>\n",
       "      <td>0</td>\n",
       "      <td>0</td>\n",
       "    </tr>\n",
       "    <tr>\n",
       "      <th>21810</th>\n",
       "      <td>1</td>\n",
       "      <td>1</td>\n",
       "    </tr>\n",
       "    <tr>\n",
       "      <th>13638</th>\n",
       "      <td>0</td>\n",
       "      <td>0</td>\n",
       "    </tr>\n",
       "    <tr>\n",
       "      <th>7526</th>\n",
       "      <td>0</td>\n",
       "      <td>0</td>\n",
       "    </tr>\n",
       "    <tr>\n",
       "      <th>17945</th>\n",
       "      <td>0</td>\n",
       "      <td>0</td>\n",
       "    </tr>\n",
       "  </tbody>\n",
       "</table>\n",
       "</div>"
      ],
      "text/plain": [
       "       predictions  actual\n",
       "10747            0       0\n",
       "12573            0       1\n",
       "29676            0       0\n",
       "8856             1       1\n",
       "21098            0       0\n",
       "17458            0       0\n",
       "1476             0       0\n",
       "5120             0       0\n",
       "18338            0       0\n",
       "28279            0       0\n",
       "1684             0       0\n",
       "20371            0       1\n",
       "3608             0       0\n",
       "13012            0       0\n",
       "6793             0       0\n",
       "5416             0       0\n",
       "21810            1       1\n",
       "13638            0       0\n",
       "7526             0       0\n",
       "17945            0       0"
      ]
     },
     "execution_count": 20,
     "metadata": {},
     "output_type": "execute_result"
    }
   ],
   "source": [
    "# Create a DataFrame to compare the predictions with the actual values\n",
    "results = pd.DataFrame({\"predictions\": predictions.ravel(), \"actual\": y_test})\n",
    "\n",
    "# Display sample data\n",
    "results.head(20)"
   ]
  },
  {
   "cell_type": "markdown",
   "metadata": {},
   "source": [
    "## Step 14: Use the results of steps 12 and 13 to consider how well your model performed on the unseen test data. How accurate were the results? Can you think of any ways you might improve the model accuracy?"
   ]
  }
 ],
 "metadata": {
  "file_extension": ".py",
  "kernelspec": {
   "display_name": "Python 3 (ipykernel)",
   "language": "python",
   "name": "python3"
  },
  "language_info": {
   "codemirror_mode": {
    "name": "ipython",
    "version": 3
   },
   "file_extension": ".py",
   "mimetype": "text/x-python",
   "name": "python",
   "nbconvert_exporter": "python",
   "pygments_lexer": "ipython3",
   "version": "3.10.12"
  },
  "mimetype": "text/x-python",
  "name": "python",
  "npconvert_exporter": "python",
  "pygments_lexer": "ipython3",
  "version": 3
 },
 "nbformat": 4,
 "nbformat_minor": 4
}
